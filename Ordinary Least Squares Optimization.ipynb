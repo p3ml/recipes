{
 "cells": [
  {
   "cell_type": "markdown",
   "metadata": {},
   "source": [
    "<h1 style=\"background-color:#0071BD;color:white;text-align:center;padding-top:0.8em;padding-bottom: 0.8em\">\n",
    "Ordinary Least Squares Optimization\n",
    "</h1>\n",
    "\n",
    "Accompanying notebook for the recipe:\n",
    "\n",
    "  * Christian Bauckhage: \"NumPy / SciPy Recipes for Data Science: Ordinary Least Squares Optimization\",<br/> Technical Report, March 2015 ([Download from ReseachGate](https://www.researchgate.net/publication/273133972_NumPy_SciPy_Recipes_for_Data_Science_Ordinary_Least_Squares_Optimization))\n",
    "\n",
    "  * Abstract of the paper: *In this note, we study least squares optimization for parameter estimation. By means of the basic example of a linear regression task, we explore different formulations of the ordinary least squares problem, show how to solve it using **NumPy** or **SciPy**, and provide suggestions for practical applications.*\n",
    "\n",
    "In this notebook you find now in addition to the technical report as  `lsq_solution_V0(X, y)` a direct implementation of the formula $(X^TX)^{-1}X^Ty$ based on numpy matrices reading `(X.T * X).I * X.T * y`. It comes with a slight performance penality, especially for small matrices: 200% for n = 100, but only 3% for n = 1000000. `X` and `y` in this case have to be instantiated with `np.matrix(...)` not `np.array(...)`.\n",
    "\n",
    "As an experiment we write `ŷ` ([Unicode 0177](https://www.fileformat.info/info/unicode/char/0177/index.htm)) instead of `yhat` to be closer to $\\hat y$. This is not yet a recommendation. Try for yourself. There are [different strongly](https://stackoverflow.com/questions/2649544/unicode-identifiers-in-python) [diverging opions](https://softwareengineering.stackexchange.com/questions/16010/is-it-bad-to-use-unicode-characters-in-variable-names) on this topic on the net. The benefit of close resemblence to the mathematical formula competes with the difficulty of typing the character.\n",
    "\n",
    "<p style=\"background-color:#66A5D1;padding-top:0.2em;padding-bottom: 0.2em\" />"
   ]
  },
  {
   "cell_type": "code",
   "execution_count": 1,
   "metadata": {},
   "outputs": [],
   "source": [
    "import numpy as np\n",
    "import numpy.linalg as la\n",
    "import numpy.random as rnd\n",
    "\n",
    "import matplotlib.pyplot as plt"
   ]
  },
  {
   "cell_type": "code",
   "execution_count": 2,
   "metadata": {},
   "outputs": [],
   "source": [
    "import warnings\n",
    "warnings.simplefilter(action='ignore', category=FutureWarning)"
   ]
  },
  {
   "cell_type": "markdown",
   "metadata": {},
   "source": [
    "### Example data"
   ]
  },
  {
   "cell_type": "code",
   "execution_count": 3,
   "metadata": {},
   "outputs": [],
   "source": [
    "def create_data(n, xmin=-2, xmax=12, a=1.1, b=2.0):\n",
    "    x = rnd.random(n) * (xmax - xmin) + xmin\n",
    "    y = a * x + b + rnd.randn(n) * 0.5\n",
    "    return x, y"
   ]
  },
  {
   "cell_type": "code",
   "execution_count": 4,
   "metadata": {},
   "outputs": [],
   "source": [
    "x, y = create_data(25)"
   ]
  },
  {
   "cell_type": "code",
   "execution_count": 5,
   "metadata": {},
   "outputs": [
    {
     "name": "stdout",
     "output_type": "stream",
     "text": [
      "(7.83, 10.79), (3.86, 5.80), (9.66, 13.30), (3.65, 6.79), (10.35, 13.58), (4.50, 7.27), (6.26, 9.46), (2.06, 4.08), (-1.14, 0.59), (9.98, 13.83), (10.82, 13.97), (-0.29, 1.40), (10.10, 13.07), (11.35, 13.58), (4.62, 6.38), (3.00, 4.97), (2.52, 4.86), (-0.91, 0.77), (11.86, 15.56), (6.54, 9.61), (9.84, 13.14), (-0.52, 2.01), (2.70, 4.18), (9.31, 12.38), (-0.38, 1.14), "
     ]
    }
   ],
   "source": [
    "for xi, yi in zip(x, y):\n",
    "    print('({:.2f}, {:.2f})'.format(xi, yi), end=', ')"
   ]
  },
  {
   "cell_type": "code",
   "execution_count": 6,
   "metadata": {},
   "outputs": [
    {
     "data": {
      "image/png": "[encoded data removed]",
      "text/plain": [
       "<Figure size 432x288 with 1 Axes>"
      ]
     },
     "metadata": {},
     "output_type": "display_data"
    }
   ],
   "source": [
    "plt.scatter(x, y)\n",
    "plt.show()"
   ]
  },
  {
   "cell_type": "markdown",
   "metadata": {},
   "source": [
    "### Ordinary Least Squares"
   ]
  },
  {
   "cell_type": "code",
   "execution_count": 7,
   "metadata": {},
   "outputs": [
    {
     "data": {
      "image/png": "[encoded data removed]",
      "text/plain": [
       "<Figure size 432x288 with 1 Axes>"
      ]
     },
     "metadata": {},
     "output_type": "display_data"
    }
   ],
   "source": [
    "X = np.vander(x, 2)\n",
    "w = la.lstsq(X, y)[0]\n",
    "ŷ = X.dot(w)\n",
    "\n",
    "plt.plot(x, y, 'o')\n",
    "plt.plot(x, ŷ, '-')\n",
    "plt.show()"
   ]
  },
  {
   "cell_type": "markdown",
   "metadata": {},
   "source": [
    "## Comparison of Implementation Variants"
   ]
  },
  {
   "cell_type": "markdown",
   "metadata": {},
   "source": [
    "### Computing a data matrix for linear regression"
   ]
  },
  {
   "cell_type": "code",
   "execution_count": 8,
   "metadata": {},
   "outputs": [],
   "source": [
    "def data_matrix_V1(x):\n",
    "    n = len(x)\n",
    "    return np.vstack((x, np.ones(n))).T\n",
    "\n",
    "def data_matrix_V2(x):\n",
    "    return np.vstack((x, np.ones_like(x))).T\n",
    "    \n",
    "def data_matrix_V3(x):\n",
    "    return np.vander(x, 2)"
   ]
  },
  {
   "cell_type": "markdown",
   "metadata": {},
   "source": [
    "#### All three variants create the same matrix"
   ]
  },
  {
   "cell_type": "code",
   "execution_count": 9,
   "metadata": {},
   "outputs": [
    {
     "name": "stdout",
     "output_type": "stream",
     "text": [
      "[[4.7 1. ]\n",
      " [1.1 1. ]]\n",
      "\n",
      "[[4.7 1. ]\n",
      " [1.1 1. ]]\n",
      "\n",
      "[[4.7 1. ]\n",
      " [1.1 1. ]]\n"
     ]
    }
   ],
   "source": [
    "x = [4.7, 1.1]\n",
    "\n",
    "print(data_matrix_V1(x)); print()\n",
    "print(data_matrix_V2(x)); print()\n",
    "print(data_matrix_V3(x))"
   ]
  },
  {
   "cell_type": "markdown",
   "metadata": {},
   "source": [
    "### Solving Least Squares for Linear Regression\n"
   ]
  },
  {
   "cell_type": "code",
   "execution_count": 10,
   "metadata": {},
   "outputs": [],
   "source": [
    "def lsq_solution_V0(X, y):\n",
    "    w = (X.T * X).I * X.T * y\n",
    "    return w\n",
    "\n",
    "def lsq_solution_V1(X, y):\n",
    "    w = la.inv(X.T.dot(X)).dot(X.T).dot(y)\n",
    "    return w\n",
    "\n",
    "def lsq_solution_V2(X, y):\n",
    "    w = np.dot(la.pinv(X), y)\n",
    "    return w\n",
    "\n",
    "def lsq_solution_V3(X, y):\n",
    "    w, residual, rank, svalues = la.lstsq(X, y)\n",
    "    return w"
   ]
  },
  {
   "cell_type": "markdown",
   "metadata": {},
   "source": [
    "#### All three variants create the same regression line"
   ]
  },
  {
   "cell_type": "code",
   "execution_count": 11,
   "metadata": {},
   "outputs": [
    {
     "data": {
      "image/png": "[encoded data removed]",
      "text/plain": [
       "<Figure size 1368x342 with 4 Axes>"
      ]
     },
     "metadata": {},
     "output_type": "display_data"
    }
   ],
   "source": [
    "n = 25\n",
    "x, y = create_data(n)\n",
    "X    = np.vander(x, 2)\n",
    "\n",
    "X0 = np.matrix(np.vander(x, 2)) # (n, 2)\n",
    "y0 = np.matrix(y).T             # (n, 1)\n",
    "\n",
    "w0 = lsq_solution_V0(X0, y0)\n",
    "ŷ0 = X0 * w0\n",
    "\n",
    "w1 = lsq_solution_V1(X, y)\n",
    "ŷ1 = X.dot(w1)\n",
    "\n",
    "w2 = lsq_solution_V2(X, y)\n",
    "ŷ2 = X.dot(w2)\n",
    "\n",
    "w3 = lsq_solution_V3(X, y)\n",
    "ŷ3 = X.dot(w3)\n",
    "\n",
    "fig, axs = plt.subplots(1, 4, figsize=(19, 4.75))\n",
    "for a in axs: a.plot(x, y, 'o')\n",
    "\n",
    "axs[0].set_title('Version 0\\nw =' + str(np.array(w0).T[0])) # convert (2, 1) to (2,)\n",
    "axs[0].plot(x, ŷ0, '-')\n",
    "\n",
    "axs[1].set_title('Version 1\\nw =' + str(w1))\n",
    "axs[1].plot(x, ŷ1, '-')\n",
    "\n",
    "axs[2].set_title('Version 2\\nw =' + str(w2))\n",
    "axs[2].plot(x, ŷ2, '-')\n",
    "\n",
    "axs[3].set_title('Version 3\\nw =' + str(w3))\n",
    "axs[3].plot(x, ŷ3, '-')\n",
    "\n",
    "plt.show()"
   ]
  },
  {
   "cell_type": "markdown",
   "metadata": {},
   "source": [
    "### Performance comparison"
   ]
  },
  {
   "cell_type": "code",
   "execution_count": 12,
   "metadata": {},
   "outputs": [
    {
     "name": "stdout",
     "output_type": "stream",
     "text": [
      "         n        V0        V1        V2        V3\n",
      "       100     0.005     0.002     0.008     0.008\n",
      "      1000     0.004     0.002     0.009     0.008\n",
      "     10000     0.010     0.009     0.031     0.016\n",
      "    100000     0.050     0.047     0.344     0.088\n",
      "   1000000     0.557     0.550     1.616     1.111\n"
     ]
    }
   ],
   "source": [
    "import timeit\n",
    "\n",
    "print(9*' ' + 'n', end='')\n",
    "for v in [0, 1, 2, 3]: \n",
    "    print(8*' ' + 'V{}'.format(v), end='')\n",
    "print()\n",
    "\n",
    "for n in [100, 1_000, 10_000, 100_000, 1_000_000]:\n",
    "    print('{:10}'.format(n), end='')\n",
    "    for v in [0, 1, 2, 3]:\n",
    "\n",
    "        if v == 0:\n",
    "            setup = 'x, y = create_data(n); X = np.matrix(np.vander(x, 2)); y = np.matrix(y).T' \n",
    "        else: \n",
    "            setup = 'x, y = create_data(n); X = np.vander(x, 2)'\n",
    "        \n",
    "        t = timeit.timeit(\n",
    "            stmt    = 'lsq_solution_V{}(X, y)'.format(v), \n",
    "            setup   = setup, \n",
    "            number  = 100, \n",
    "            globals = globals()\n",
    "        )\n",
    "        \n",
    "        print('{:10.3f}'.format(t), end='')\n",
    "    print()"
   ]
  },
  {
   "cell_type": "markdown",
   "metadata": {},
   "source": [
    "<table style=\"width:100%\">\n",
    "  <tr>\n",
    "      <td colspan=\"1\" style=\"text-align:left;background-color:#0071BD;color:white\">\n",
    "        <a rel=\"license\" href=\"http://creativecommons.org/licenses/by-nc/4.0/\">\n",
    "            <img alt=\"Creative Commons License\" style=\"border-width:0;float:left;padding-right:10pt\"\n",
    "                 src=\"https://i.creativecommons.org/l/by-nc/4.0/88x31.png\" />\n",
    "        </a>\n",
    "        &copy; C. Bauckhage and O. Cremers<br/>\n",
    "        Licensed under a \n",
    "        <a rel=\"license\" href=\"http://creativecommons.org/licenses/by-nc/4.0/\" style=\"color:white\">\n",
    "            CC BY-NC 4.0\n",
    "        </a>.\n",
    "      </td>\n",
    "      <td colspan=\"2\" style=\"text-align:left;background-color:#66A5D1\">\n",
    "          <b>Acknowledgments:</b>\n",
    "          This material was prepared within the project\n",
    "          <a href=\"http://www.b-it-center.de/b-it-programmes/teaching-material/p3ml/\" style=\"color:black\">\n",
    "              P3ML\n",
    "          </a> \n",
    "          which is funded by the Ministry of Education and Research of Germany (BMBF)\n",
    "          under grant number 01/S17064. The authors gratefully acknowledge this support.\n",
    "      </td>\n",
    "  </tr>\n",
    "</table>"
   ]
  }
 ],
 "metadata": {
  "kernelspec": {
   "display_name": "Python 3",
   "language": "python",
   "name": "python3"
  },
  "language_info": {
   "codemirror_mode": {
    "name": "ipython",
    "version": 3
   },
   "file_extension": ".py",
   "mimetype": "text/x-python",
   "name": "python",
   "nbconvert_exporter": "python",
   "pygments_lexer": "ipython3",
   "version": "3.6.8"
  }
 },
 "nbformat": 4,
 "nbformat_minor": 2
}
